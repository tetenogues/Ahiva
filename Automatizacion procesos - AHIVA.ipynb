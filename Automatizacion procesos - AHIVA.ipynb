{
 "cells": [
  {
   "cell_type": "code",
   "execution_count": 1,
   "metadata": {},
   "outputs": [],
   "source": [
    "import pyautogui as pyautogui\n",
    "import pandas as pd\n",
    "from selenium import webdriver\n",
    "from selenium.webdriver.common.keys import Keys\n",
    "from selenium.webdriver.common.action_chains import ActionChains\n",
    "import time"
   ]
  },
  {
   "cell_type": "code",
   "execution_count": 37,
   "metadata": {},
   "outputs": [],
   "source": [
    "datos = pd.read_excel('AHIVA 161 - Despacho 085 - Manifiesto.xlsx', index_col=0)"
   ]
  },
  {
   "cell_type": "code",
   "execution_count": 38,
   "metadata": {},
   "outputs": [
    {
     "data": {
      "text/plain": [
       "[[29, 29, 47, 75, 30, 14], 224, 143.76]"
      ]
     },
     "execution_count": 38,
     "metadata": {},
     "output_type": "execute_result"
    }
   ],
   "source": [
    "def bining(datos):\n",
    "    entradas = list(datos['Peso'])\n",
    "    lista_return = [0,0,0,0,0,0]\n",
    "\n",
    "    for n in entradas:\n",
    "        k=0\n",
    "        if n <= 0.100: \n",
    "            lista_return[k] = lista_return[k] + 1 \n",
    "        elif n <= 0.250:\n",
    "            k +=1\n",
    "            lista_return[k] = lista_return[k] + 1 \n",
    "        elif n <= 0.500:\n",
    "            k +=2\n",
    "            lista_return[k] = lista_return[k] + 1     \n",
    "        elif n <= 1:\n",
    "            k +=3\n",
    "            lista_return[k] = lista_return[k] + 1 \n",
    "        elif n <= 1.5:\n",
    "            k +=4\n",
    "            lista_return[k] = lista_return[k] + 1 \n",
    "        else:\n",
    "            k +=5\n",
    "            lista_return[k] = lista_return[k] + 1 \n",
    "            \n",
    "    return lista_return, len(datos), sum(datos['Peso'])\n",
    "lista = list(bining(datos))\n",
    "lista"
   ]
  },
  {
   "cell_type": "code",
   "execution_count": 39,
   "metadata": {},
   "outputs": [
    {
     "name": "stderr",
     "output_type": "stream",
     "text": [
      "C:\\Users\\queen\\AppData\\Local\\Temp\\ipykernel_34880\\1646536162.py:1: DeprecationWarning: executable_path has been deprecated, please pass in a Service object\n",
      "  driver = webdriver.Chrome(executable_path=\"C:\\chromedriver.exe\")\n"
     ]
    },
    {
     "data": {
      "text/plain": [
       "([29, 29, 47, 75, 30, 14], 1682778869.7591271)"
      ]
     },
     "execution_count": 39,
     "metadata": {},
     "output_type": "execute_result"
    }
   ],
   "source": [
    "driver = webdriver.Chrome(executable_path=\"C:\\chromedriver.exe\")\n",
    "driver.implicitly_wait(0.5)\n",
    "driver.get('https://notas.correo.com.uy/notas/') #launch URL\n",
    "pyautogui.press('tab')\n",
    "pyautogui.press('tab')\n",
    "pyautogui.write('tiendamia', interval=0.01)\n",
    "pyautogui.press('tab')\n",
    "pyautogui.write('3482', interval=0.1)\n",
    "pyautogui.press('tab')\n",
    "pyautogui.press('tab')\n",
    "pyautogui.press('enter', interval = 0.5)\n",
    "t = 0.5 #variacoin del tiempo dependiendo de la velocidad del internet donde se corra el codigo\n",
    "time.sleep(t+2)\n",
    "pyautogui.click(155, 360) #selecciona piezas\n",
    "time.sleep(t+4.0)\n",
    "pyautogui.click(140, 460) #toca para ingresar la cuenta\n",
    "pyautogui.write('3482', interval=0.3)\n",
    "time.sleep(t+0.2)\n",
    "pyautogui.press('tab')\n",
    "pyautogui.write('2', interval=0.3)\n",
    "time.sleep(t+0.2)\n",
    "pyautogui.click(884, 525) #buscar\n",
    "listinha = []\n",
    "for i in lista[0]:\n",
    "    if i == 0:\n",
    "        listinha.append(i)\n",
    "    else:\n",
    "        while len(listinha) <len(lista[0]):\n",
    "            time.sleep(t+2.5)\n",
    "            pyautogui.click(965, 655) #agregar producto\n",
    "            time.sleep(t+2.5)\n",
    "            pyautogui.click(166, 275) #logistica\n",
    "            time.sleep(t+1)\n",
    "            pyautogui.click(191, 344) #internacional\n",
    "            time.sleep(t+0.5)\n",
    "            pyautogui.click(252, 386) #pequeño paquete\n",
    "            time.sleep(t+1)\n",
    "            pyautogui.write((str(lista[0][len(listinha)])), interval=0.3) #escribe la cantidad por categoria\n",
    "            if len(listinha) == 0:\n",
    "                pyautogui.press('tab')\n",
    "                pyautogui.press('tab')\n",
    "                pyautogui.press('tab')\n",
    "                pyautogui.press('enter')\n",
    "                listinha.append(lista[0][len(listinha)])\n",
    "                time.sleep(t+1.0)\n",
    "            else:\n",
    "                pyautogui.press('tab')\n",
    "                pyautogui.press('enter')\n",
    "                contador = 0\n",
    "                while contador < len(listinha):\n",
    "                    pyautogui.press('down')\n",
    "                    contador += 1\n",
    "                pyautogui.press('enter')\n",
    "                pyautogui.press('tab')\n",
    "                pyautogui.press('tab')\n",
    "                pyautogui.press('tab')\n",
    "                pyautogui.press('enter')\n",
    "                listinha.append(lista[0][len(listinha)])        \n",
    "                \n",
    "                time.sleep(t+2.5)\n",
    "listinha  "
   ]
  },
  {
   "cell_type": "code",
   "execution_count": null,
   "metadata": {},
   "outputs": [],
   "source": [
    "\n"
   ]
  }
 ],
 "metadata": {
  "kernelspec": {
   "display_name": "Python 3",
   "language": "python",
   "name": "python3"
  },
  "language_info": {
   "codemirror_mode": {
    "name": "ipython",
    "version": 3
   },
   "file_extension": ".py",
   "mimetype": "text/x-python",
   "name": "python",
   "nbconvert_exporter": "python",
   "pygments_lexer": "ipython3",
   "version": "3.9.7"
  },
  "orig_nbformat": 4,
  "vscode": {
   "interpreter": {
    "hash": "ac3ef896ab1383d67809968e4cc889addb359f2cb0ce39b87a8ca918f5de2fe3"
   }
  }
 },
 "nbformat": 4,
 "nbformat_minor": 2
}
